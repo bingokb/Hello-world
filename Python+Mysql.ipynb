{
 "cells": [
  {
   "cell_type": "markdown",
   "metadata": {},
   "source": [
    "# Python"
   ]
  },
  {
   "cell_type": "code",
   "execution_count": 6,
   "metadata": {
    "collapsed": true
   },
   "outputs": [],
   "source": [
    "import pandas as pd\n",
    "import pymysql\n"
   ]
  },
  {
   "cell_type": "code",
   "execution_count": 22,
   "metadata": {
    "scrolled": false
   },
   "outputs": [
    {
     "data": {
      "text/html": [
       "<div>\n",
       "<style scoped>\n",
       "    .dataframe tbody tr th:only-of-type {\n",
       "        vertical-align: middle;\n",
       "    }\n",
       "\n",
       "    .dataframe tbody tr th {\n",
       "        vertical-align: top;\n",
       "    }\n",
       "\n",
       "    .dataframe thead th {\n",
       "        text-align: right;\n",
       "    }\n",
       "</style>\n",
       "<table border=\"1\" class=\"dataframe\">\n",
       "  <thead>\n",
       "    <tr style=\"text-align: right;\">\n",
       "      <th></th>\n",
       "      <th>company</th>\n",
       "      <th>revenue</th>\n",
       "      <th>cost</th>\n",
       "      <th>GrossMargin</th>\n",
       "      <th>BusinessProfit</th>\n",
       "      <th>NetProfit</th>\n",
       "    </tr>\n",
       "  </thead>\n",
       "  <tbody>\n",
       "    <tr>\n",
       "      <th>0</th>\n",
       "      <td>AL</td>\n",
       "      <td>0.000000e+00</td>\n",
       "      <td>0.0</td>\n",
       "      <td>0.0</td>\n",
       "      <td>0.0</td>\n",
       "      <td>0.0</td>\n",
       "    </tr>\n",
       "    <tr>\n",
       "      <th>1</th>\n",
       "      <td>HW</td>\n",
       "      <td>7.212020e+08</td>\n",
       "      <td>-443031000.0</td>\n",
       "      <td>278171000.0</td>\n",
       "      <td>73287000.0</td>\n",
       "      <td>59345000.0</td>\n",
       "    </tr>\n",
       "    <tr>\n",
       "      <th>2</th>\n",
       "      <td>SN</td>\n",
       "      <td>2.449566e+08</td>\n",
       "      <td>-208216606.0</td>\n",
       "      <td>36739967.0</td>\n",
       "      <td>13658550.0</td>\n",
       "      <td>12642548.0</td>\n",
       "    </tr>\n",
       "    <tr>\n",
       "      <th>3</th>\n",
       "      <td>TX</td>\n",
       "      <td>3.126940e+08</td>\n",
       "      <td>-170574000.0</td>\n",
       "      <td>142120000.0</td>\n",
       "      <td>97648000.0</td>\n",
       "      <td>79984000.0</td>\n",
       "    </tr>\n",
       "    <tr>\n",
       "      <th>4</th>\n",
       "      <td>XM</td>\n",
       "      <td>1.749154e+09</td>\n",
       "      <td>-152723500.0</td>\n",
       "      <td>22191900.0</td>\n",
       "      <td>196500.0</td>\n",
       "      <td>13477700.0</td>\n",
       "    </tr>\n",
       "  </tbody>\n",
       "</table>\n",
       "</div>"
      ],
      "text/plain": [
       "  company       revenue         cost  GrossMargin  BusinessProfit   NetProfit\n",
       "0      AL  0.000000e+00          0.0          0.0             0.0         0.0\n",
       "1      HW  7.212020e+08 -443031000.0  278171000.0      73287000.0  59345000.0\n",
       "2      SN  2.449566e+08 -208216606.0   36739967.0      13658550.0  12642548.0\n",
       "3      TX  3.126940e+08 -170574000.0  142120000.0      97648000.0  79984000.0\n",
       "4      XM  1.749154e+09 -152723500.0   22191900.0        196500.0  13477700.0"
      ]
     },
     "execution_count": 22,
     "metadata": {},
     "output_type": "execute_result"
    }
   ],
   "source": [
    "sql = \"select * from sheet1\"\n",
    "eng = pymysql.connect(host='localhost',user='root',password='123',db='caibao',charset='utf8')\n",
    "pd.read_sql(sql,eng)\n"
   ]
  },
  {
   "cell_type": "code",
   "execution_count": 23,
   "metadata": {
    "scrolled": false
   },
   "outputs": [
    {
     "name": "stdout",
     "output_type": "stream",
     "text": [
      "  company       revenue         cost  GrossMargin  BusinessProfit   NetProfit\n",
      "0      AL  0.000000e+00          0.0          0.0             0.0         0.0\n",
      "1      HW  7.212020e+08 -443031000.0  278171000.0      73287000.0  59345000.0\n",
      "2      SN  2.449566e+08 -208216606.0   36739967.0      13658550.0  12642548.0\n",
      "3      TX  3.126940e+08 -170574000.0  142120000.0      97648000.0  79984000.0\n",
      "4      XM  1.749154e+09 -152723500.0   22191900.0        196500.0  13477700.0\n",
      "<class 'pandas.core.frame.DataFrame'>\n",
      "RangeIndex: 5 entries, 0 to 4\n",
      "Data columns (total 6 columns):\n",
      "company           5 non-null object\n",
      "revenue           5 non-null float64\n",
      "cost              5 non-null float64\n",
      "GrossMargin       5 non-null float64\n",
      "BusinessProfit    5 non-null float64\n",
      "NetProfit         5 non-null float64\n",
      "dtypes: float64(5), object(1)\n",
      "memory usage: 320.0+ bytes\n"
     ]
    }
   ],
   "source": [
    "df = pd.read_sql(sql,eng)\n",
    "print (df)\n",
    "df.info()"
   ]
  },
  {
   "cell_type": "markdown",
   "metadata": {},
   "source": [
    "# Mysql\n",
    "---\n",
    "net start mysql  开启mysql <br/>\n",
    "mysql -u root -p <br/>\n",
    "show databases;  <br/>\n",
    "creat database caibao;  创建新数据库  <br/>\n",
    "show databases;<br/>\n",
    "use caibao;  切换数据库<br/>\n",
    "creat table sheet1(company varchar(20),revenue double);  创建表<br/>\n",
    "describe sheet1;<br/>\n",
    "alter table sheet1  增加字段及类型<br/>\n",
    "&nbsp;&nbsp;&nbsp;&nbsp;  add cost double<br/>\n",
    "&nbsp;&nbsp;&nbsp;&nbsp;  add GrossMargin double<br/>\n",
    "&nbsp;&nbsp;&nbsp;&nbsp;  add BusinessProfit double<br/>\n",
    "&nbsp;&nbsp;&nbsp;&nbsp;  add NetProfit double;<br/>\n",
    "desc sheet1;<br/>\n",
    "alert table sheet1  修改表<br/>\n",
    "    modify company varchar(20) primary key; 修改字段，增加主键<br/>\n",
    "insert into sheet1  插入数据<br/>\n",
    "    valuse( , , , , ,)，按行插入<br/>\n",
    "    values( , , , , ,);<br/>\n",
    " select *   检查插入情况<br/>\n",
    "     from sheet1<br/>"
   ]
  }
 ],
 "metadata": {
  "kernelspec": {
   "display_name": "Python 3",
   "language": "python",
   "name": "python3"
  },
  "language_info": {
   "codemirror_mode": {
    "name": "ipython",
    "version": 3
   },
   "file_extension": ".py",
   "mimetype": "text/x-python",
   "name": "python",
   "nbconvert_exporter": "python",
   "pygments_lexer": "ipython3",
   "version": "3.6.3"
  },
  "toc": {
   "base_numbering": 1,
   "nav_menu": {},
   "number_sections": true,
   "sideBar": true,
   "skip_h1_title": false,
   "title_cell": "Table of Contents",
   "title_sidebar": "Contents",
   "toc_cell": false,
   "toc_position": {
    "height": "calc(100% - 180px)",
    "left": "10px",
    "top": "150px",
    "width": "384px"
   },
   "toc_section_display": true,
   "toc_window_display": true
  }
 },
 "nbformat": 4,
 "nbformat_minor": 2
}
